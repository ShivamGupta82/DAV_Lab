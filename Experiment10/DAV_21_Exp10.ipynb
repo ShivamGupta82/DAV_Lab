{
  "nbformat": 4,
  "nbformat_minor": 0,
  "metadata": {
    "colab": {
      "provenance": [],
      "authorship_tag": "ABX9TyM5Sbr7h30PZYY0aYTV3L28",
      "include_colab_link": true
    },
    "kernelspec": {
      "name": "python3",
      "display_name": "Python 3"
    },
    "language_info": {
      "name": "python"
    }
  },
  "cells": [
    {
      "cell_type": "markdown",
      "metadata": {
        "id": "view-in-github",
        "colab_type": "text"
      },
      "source": [
        "<a href=\"https://colab.research.google.com/github/ShivamGupta82/DAV_Lab/blob/master/Experiment10/DAV_21_Exp10.ipynb\" target=\"_parent\"><img src=\"https://colab.research.google.com/assets/colab-badge.svg\" alt=\"Open In Colab\"/></a>"
      ]
    },
    {
      "cell_type": "markdown",
      "source": [
        "## **Aim: Event Handling with D3.js**"
      ],
      "metadata": {
        "id": "Yqv5DYo6FuIh"
      }
    },
    {
      "cell_type": "markdown",
      "source": [
        "## **Using click event**"
      ],
      "metadata": {
        "id": "mAPhiBAjdngY"
      }
    },
    {
      "cell_type": "code",
      "source": [
        "%%html\n",
        "<!DOCTYPE html>\n",
        "<html>\n",
        "<head>\n",
        "  <meta charset=\"utf-8\">\n",
        "  <title>Fill Table with Random Numbers</title>\n",
        "  <style>\n",
        "    table {\n",
        "      border-collapse: collapse;\n",
        "      margin-bottom: 20px;\n",
        "    }\n",
        "    td, th {\n",
        "      border: 1px solid black;\n",
        "      padding: 8px;\n",
        "      text-align: center;\n",
        "    }\n",
        "  </style>\n",
        "  <script src=\"https://d3js.org/d3.v7.min.js\"></script>\n",
        "</head>\n",
        "<body>\n",
        "  <h2>Fill Table with Random Numbers - Click anywhere in the table</h2>\n",
        "  <table id=\"myTable\">\n",
        "    <thead>\n",
        "      <tr>\n",
        "        <th>Column 1</th>\n",
        "        <th>Column 2</th>\n",
        "        <th>Column 3</th>\n",
        "      </tr>\n",
        "    </thead>\n",
        "    <tbody>\n",
        "      <tr>\n",
        "        <td></td>\n",
        "        <td></td>\n",
        "        <td></td>\n",
        "      </tr>\n",
        "      <tr>\n",
        "        <td></td>\n",
        "        <td></td>\n",
        "        <td></td>\n",
        "      </tr>\n",
        "      <tr>\n",
        "        <td></td>\n",
        "        <td></td>\n",
        "        <td></td>\n",
        "      </tr>\n",
        "    </tbody>\n",
        "  </table>\n",
        "\n",
        "  <script>\n",
        "    const table = d3.select(\"#myTable\");\n",
        "\n",
        "    table.on(\"click\", function() {\n",
        "      const numRows = table.selectAll(\"tr\").size();\n",
        "      const numCols = table.selectAll(\"td\").size();\n",
        "      console.log(numRows)\n",
        "      console.log(numCols)\n",
        "\n",
        "      const data = Array.from({ length: numRows - 1 }, () =>\n",
        "        Array.from({ length: numCols }, () => Math.floor(Math.random() * 100))\n",
        "      );\n",
        "\n",
        "      table.selectAll(\"td\").data(data.flat()).text(d => d);\n",
        "    });\n",
        "  </script>\n",
        "</body>\n",
        "</html>\n"
      ],
      "metadata": {
        "colab": {
          "base_uri": "https://localhost:8080/",
          "height": 222
        },
        "id": "GLpzIfVndlbS",
        "outputId": "53e16733-3f04-47ae-b4e6-289e507d4b18"
      },
      "execution_count": null,
      "outputs": [
        {
          "output_type": "display_data",
          "data": {
            "text/plain": [
              "<IPython.core.display.HTML object>"
            ],
            "text/html": [
              "<!DOCTYPE html>\n",
              "<html>\n",
              "<head>\n",
              "  <meta charset=\"utf-8\">\n",
              "  <title>Fill Table with Random Numbers</title>\n",
              "  <style>\n",
              "    table {\n",
              "      border-collapse: collapse;\n",
              "      margin-bottom: 20px;\n",
              "    }\n",
              "    td, th {\n",
              "      border: 1px solid black;\n",
              "      padding: 8px;\n",
              "      text-align: center;\n",
              "    }\n",
              "  </style>\n",
              "  <script src=\"https://d3js.org/d3.v7.min.js\"></script>\n",
              "</head>\n",
              "<body>\n",
              "  <h2>Fill Table with Random Numbers - Click anywhere in the table</h2>\n",
              "  <table id=\"myTable\">\n",
              "    <thead>\n",
              "      <tr>\n",
              "        <th>Column 1</th>\n",
              "        <th>Column 2</th>\n",
              "        <th>Column 3</th>\n",
              "      </tr>\n",
              "    </thead>\n",
              "    <tbody>\n",
              "      <tr>\n",
              "        <td></td>\n",
              "        <td></td>\n",
              "        <td></td>\n",
              "      </tr>\n",
              "      <tr>\n",
              "        <td></td>\n",
              "        <td></td>\n",
              "        <td></td>\n",
              "      </tr>\n",
              "      <tr>\n",
              "        <td></td>\n",
              "        <td></td>\n",
              "        <td></td>\n",
              "      </tr>\n",
              "    </tbody>\n",
              "  </table>\n",
              "\n",
              "  <script>\n",
              "    const table = d3.select(\"#myTable\");\n",
              "\n",
              "    table.on(\"click\", function() {\n",
              "      const numRows = table.selectAll(\"tr\").size();\n",
              "      const numCols = table.selectAll(\"td\").size();\n",
              "      console.log(numRows)\n",
              "      console.log(numCols)\n",
              "\n",
              "      const data = Array.from({ length: numRows - 1 }, () =>\n",
              "        Array.from({ length: numCols }, () => Math.floor(Math.random() * 100))\n",
              "      );\n",
              "\n",
              "      table.selectAll(\"td\").data(data.flat()).text(d => d);\n",
              "    });\n",
              "  </script>\n",
              "</body>\n",
              "</html>\n"
            ]
          },
          "metadata": {}
        }
      ]
    },
    {
      "cell_type": "markdown",
      "source": [
        "## **Using mouseover and mouseout events**"
      ],
      "metadata": {
        "id": "RUD4yVVQZoyR"
      }
    },
    {
      "cell_type": "code",
      "source": [
        "%%html\n",
        "<!DOCTYPE html>\n",
        "<html>\n",
        "<head>\n",
        "  <meta charset=\"utf-8\">\n",
        "  <title>Data Loading in D3.js</title>\n",
        "  <style>\n",
        "    .circle {\n",
        "      fill: steelblue;\n",
        "    }\n",
        "  </style>\n",
        "  <script src=\"https://d3js.org/d3.v7.min.js\"></script>\n",
        "</head>\n",
        "<body>\n",
        "  <h2>mouseover / mouseout</h2>\n",
        "  <svg width=\"400\" height=\"300\"></svg>\n",
        "\n",
        "  <script>\n",
        "    const data = [\n",
        "      { id: 1, value: 100 },\n",
        "    ];\n",
        "\n",
        "    const svg = d3.select(\"svg\");\n",
        "\n",
        "    svg.selectAll(\"circle\")\n",
        "      .data(data)\n",
        "      .enter()\n",
        "      .append(\"circle\")\n",
        "      .attr(\"cx\", d => d.id * 160)\n",
        "      .attr(\"cy\", 150)\n",
        "      .attr(\"r\", d => d.value)\n",
        "      .attr(\"class\", \"circle\")\n",
        "      .on(\"mouseover\", function(){\n",
        "          d3.select(this)\n",
        "            .style(\"fill\", \"orange\");\n",
        "      })\n",
        "      .on(\"mouseout\", function(){\n",
        "          d3.select(this)\n",
        "            .style(\"fill\", \"steelblue\")\n",
        "      });\n",
        "  </script>\n",
        "</body>\n",
        "</html>\n"
      ],
      "metadata": {
        "colab": {
          "base_uri": "https://localhost:8080/",
          "height": 368
        },
        "id": "Y1NufPfmY2aC",
        "outputId": "61caf3b3-04db-40f3-96c9-431295fe9989"
      },
      "execution_count": null,
      "outputs": [
        {
          "output_type": "display_data",
          "data": {
            "text/plain": [
              "<IPython.core.display.HTML object>"
            ],
            "text/html": [
              "<!DOCTYPE html>\n",
              "<html>\n",
              "<head>\n",
              "  <meta charset=\"utf-8\">\n",
              "  <title>Data Loading in D3.js</title>\n",
              "  <style>\n",
              "    .circle {\n",
              "      fill: steelblue;\n",
              "    }\n",
              "  </style>\n",
              "  <script src=\"https://d3js.org/d3.v7.min.js\"></script>\n",
              "</head>\n",
              "<body>\n",
              "  <h2>mouseover / mouseout</h2>\n",
              "  <svg width=\"400\" height=\"300\"></svg>\n",
              "\n",
              "  <script>\n",
              "    const data = [\n",
              "      { id: 1, value: 100 },\n",
              "    ];\n",
              "\n",
              "    const svg = d3.select(\"svg\");\n",
              "\n",
              "    svg.selectAll(\"circle\")\n",
              "      .data(data)\n",
              "      .enter()\n",
              "      .append(\"circle\")\n",
              "      .attr(\"cx\", d => d.id * 160)\n",
              "      .attr(\"cy\", 150)\n",
              "      .attr(\"r\", d => d.value)\n",
              "      .attr(\"class\", \"circle\")\n",
              "      .on(\"mouseover\", function(){\n",
              "          d3.select(this)\n",
              "            .style(\"fill\", \"orange\");\n",
              "      })\n",
              "      .on(\"mouseout\", function(){\n",
              "          d3.select(this)\n",
              "            .style(\"fill\", \"steelblue\")\n",
              "      });\n",
              "  </script>\n",
              "</body>\n",
              "</html>\n"
            ]
          },
          "metadata": {}
        }
      ]
    }
  ]
}