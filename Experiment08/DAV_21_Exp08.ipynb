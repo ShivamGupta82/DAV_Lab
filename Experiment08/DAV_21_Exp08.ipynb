{
  "nbformat": 4,
  "nbformat_minor": 0,
  "metadata": {
    "colab": {
      "provenance": [],
      "collapsed_sections": [
        "edhWqxuc9Gyn",
        "NgRxTVDRBYFO"
      ],
      "authorship_tag": "ABX9TyMzKRdHiGwUznSxJG/bZ/Yu",
      "include_colab_link": true
    },
    "kernelspec": {
      "name": "python3",
      "display_name": "Python 3"
    },
    "language_info": {
      "name": "python"
    }
  },
  "cells": [
    {
      "cell_type": "markdown",
      "metadata": {
        "id": "view-in-github",
        "colab_type": "text"
      },
      "source": [
        "<a href=\"https://colab.research.google.com/github/ShivamGupta82/DAV_Lab/blob/master/Experiment08/DAV_21_Exp08.ipynb\" target=\"_parent\"><img src=\"https://colab.research.google.com/assets/colab-badge.svg\" alt=\"Open In Colab\"/></a>"
      ]
    },
    {
      "cell_type": "markdown",
      "source": [
        "## **AIM: Set Up a D3.js Environment, Select Elements in D3, Modify Elements in D3,Data Loading in D3**"
      ],
      "metadata": {
        "id": "W9AmqFK38Y5f"
      }
    },
    {
      "cell_type": "markdown",
      "source": [
        "### **Using D3 select(), selectAll() function**"
      ],
      "metadata": {
        "id": "edhWqxuc9Gyn"
      }
    },
    {
      "cell_type": "code",
      "source": [
        "%%html\n",
        "<!DOCTYPE html>\n",
        "<html>\n",
        "<head>\n",
        "  <meta charset=\"utf-8\">\n",
        "  <title>D3.js Basics</title>\n",
        "  <style>\n",
        "    .p3{\n",
        "      color:blue;\n",
        "    }\n",
        "    </style>\n",
        "  <script src=\"https://d3js.org/d3.v7.min.js\"></script>\n",
        "</head>\n",
        "<body>\n",
        "  <h2></h2>\n",
        "  <p class =\"para1\"></p>\n",
        "  <p class =\"para2\"></p>\n",
        "  <div id = \"div1\"></div>\n",
        "  <div id = \"div2\"></div>\n",
        "  <p id = \"p3\">This is Div 3</p>\n",
        "  <script>\n",
        "    const heading = d3.select('h2')\n",
        "    heading.text(\"Using select to add text in this element\")\n",
        "\n",
        "    const para1 = d3.select(\".para1\")\n",
        "    para1.text(\"Text of paragraph 1\").style(\"color\", \"red\");\n",
        "\n",
        "    const para2 = d3.select(\".para2\")\n",
        "    para2.text(\"Text of paragraph 2\").style(\"color\",\"blue\");\n",
        "\n",
        "    const div1 = d3.select(\"#div1\").text(\"Div 1\");\n",
        "    const div2 = d3.select(\"#div2\").text(\"Div 2\")\n",
        "\n",
        "    const divs = d3.selectAll('div').style(\"color\",\"orange\");\n",
        "    const div3 = d3.select(\"#p3\").classed(\"p3\", true)\n",
        "\n",
        "  </script>\n",
        "</body>\n",
        "</html>\n",
        "\n"
      ],
      "metadata": {
        "colab": {
          "base_uri": "https://localhost:8080/",
          "height": 177
        },
        "id": "pzR0dcR089DX",
        "outputId": "2a62baba-2970-419d-cbe8-1286204be89c"
      },
      "execution_count": 22,
      "outputs": [
        {
          "output_type": "display_data",
          "data": {
            "text/plain": [
              "<IPython.core.display.HTML object>"
            ],
            "text/html": [
              "<!DOCTYPE html>\n",
              "<html>\n",
              "<head>\n",
              "  <meta charset=\"utf-8\">\n",
              "  <title>D3.js Basics</title>\n",
              "  <style>\n",
              "    .p3{\n",
              "      color:blue;\n",
              "    }\n",
              "    </style>\n",
              "  <script src=\"https://d3js.org/d3.v7.min.js\"></script>\n",
              "</head>\n",
              "<body>\n",
              "  <h2></h2>\n",
              "  <p class =\"para1\"></p>\n",
              "  <p class =\"para2\"></p>\n",
              "  <div id = \"div1\"></div>\n",
              "  <div id = \"div2\"></div>\n",
              "  <p id = \"p3\">This is Div 3</p>\n",
              "  <script>\n",
              "    const heading = d3.select('h2')\n",
              "    heading.text(\"Using select to add text in this element\")\n",
              "\n",
              "    const para1 = d3.select(\".para1\")\n",
              "    para1.text(\"Text of paragraph 1\").style(\"color\", \"red\");\n",
              "\n",
              "    const para2 = d3.select(\".para2\")\n",
              "    para2.text(\"Text of paragraph 2\").style(\"color\",\"blue\");\n",
              "\n",
              "    const div1 = d3.select(\"#div1\").text(\"Div 1\");\n",
              "    const div2 = d3.select(\"#div2\").text(\"Div 2\")\n",
              "\n",
              "    const divs = d3.selectAll('div').style(\"color\",\"orange\");\n",
              "    const div3 = d3.select(\"#p3\").classed(\"p3\", true)\n",
              "\n",
              "  </script>\n",
              "</body>\n",
              "</html>\n",
              "\n"
            ]
          },
          "metadata": {}
        }
      ]
    },
    {
      "cell_type": "markdown",
      "source": [
        "### **Using style(), classed(), attr()**"
      ],
      "metadata": {
        "id": "NgRxTVDRBYFO"
      }
    },
    {
      "cell_type": "code",
      "source": [
        "%%html\n",
        "<!DOCTYPE html>\n",
        "<html>\n",
        "<head>\n",
        "  <meta charset=\"utf-8\">\n",
        "  <title>D3.js Basics</title>\n",
        "  <style>\n",
        "    .p3 {\n",
        "      color: blue;\n",
        "      font-size: 20px;\n",
        "    }\n",
        "  </style>\n",
        "  <script src=\"https://d3js.org/d3.v7.min.js\"></script>\n",
        "</head>\n",
        "<body>\n",
        "  <h2></h2>\n",
        "  <p class=\"para1\"></p>\n",
        "  <p class=\"para2\"></p>\n",
        "  <div id=\"div1\"></div>\n",
        "  <div id=\"div2\"></div>\n",
        "  <p id=\"p3\">This is Div 3</p>\n",
        "  <script>\n",
        "    const heading = d3.select('h2');\n",
        "    heading.text(\"Using select to add text in this element\");\n",
        "\n",
        "    const para1 = d3.select(\".para1\");\n",
        "    para1.text(\"Text of paragraph 1\").style(\"color\", \"red\");\n",
        "\n",
        "    const para2 = d3.select(\".para2\");\n",
        "    para2.text(\"Text of paragraph 2\").style(\"color\", \"blue\");\n",
        "\n",
        "    const div1 = d3.select(\"#div1\").text(\"Div 1\");\n",
        "    const div2 = d3.select(\"#div2\").text(\"Div 2\");\n",
        "\n",
        "    const divs = d3.selectAll('div').style(\"color\", \"orange\");\n",
        "    const div3 = d3.select(\"#p3\")\n",
        "      .classed(\"p3\", true)\n",
        "      .attr(\"title\", \"This is a tooltip\");\n",
        "  </script>\n",
        "</body>\n",
        "</html>\n"
      ],
      "metadata": {
        "colab": {
          "base_uri": "https://localhost:8080/",
          "height": 185
        },
        "id": "PuaPfofbBoIn",
        "outputId": "960a259d-0301-4e9f-e1fe-d680899d560c"
      },
      "execution_count": 23,
      "outputs": [
        {
          "output_type": "display_data",
          "data": {
            "text/plain": [
              "<IPython.core.display.HTML object>"
            ],
            "text/html": [
              "<!DOCTYPE html>\n",
              "<html>\n",
              "<head>\n",
              "  <meta charset=\"utf-8\">\n",
              "  <title>D3.js Basics</title>\n",
              "  <style>\n",
              "    .p3 {\n",
              "      color: blue;\n",
              "      font-size: 20px; \n",
              "    }\n",
              "  </style>\n",
              "  <script src=\"https://d3js.org/d3.v7.min.js\"></script>\n",
              "</head>\n",
              "<body>\n",
              "  <h2></h2>\n",
              "  <p class=\"para1\"></p>\n",
              "  <p class=\"para2\"></p>\n",
              "  <div id=\"div1\"></div>\n",
              "  <div id=\"div2\"></div>\n",
              "  <p id=\"p3\">This is Div 3</p>\n",
              "  <script>\n",
              "    const heading = d3.select('h2');\n",
              "    heading.text(\"Using select to add text in this element\");\n",
              "\n",
              "    const para1 = d3.select(\".para1\");\n",
              "    para1.text(\"Text of paragraph 1\").style(\"color\", \"red\");\n",
              "\n",
              "    const para2 = d3.select(\".para2\");\n",
              "    para2.text(\"Text of paragraph 2\").style(\"color\", \"blue\");\n",
              "\n",
              "    const div1 = d3.select(\"#div1\").text(\"Div 1\");\n",
              "    const div2 = d3.select(\"#div2\").text(\"Div 2\");\n",
              "\n",
              "    const divs = d3.selectAll('div').style(\"color\", \"orange\");\n",
              "    const div3 = d3.select(\"#p3\")\n",
              "      .classed(\"p3\", true)\n",
              "      .attr(\"title\", \"This is a tooltip\"); \n",
              "  </script>\n",
              "</body>\n",
              "</html>\n"
            ]
          },
          "metadata": {}
        }
      ]
    },
    {
      "cell_type": "markdown",
      "source": [
        "### **Data Loading**"
      ],
      "metadata": {
        "id": "H46e_YuDCbxU"
      }
    },
    {
      "cell_type": "code",
      "source": [
        "%%html\n",
        "<!DOCTYPE html>\n",
        "<html>\n",
        "<head>\n",
        "  <meta charset=\"utf-8\">\n",
        "  <title>Data Loading in D3.js</title>\n",
        "  <style>\n",
        "    .circle {\n",
        "      fill: steelblue;\n",
        "    }\n",
        "  </style>\n",
        "  <script src=\"https://d3js.org/d3.v7.min.js\"></script>\n",
        "</head>\n",
        "<body>\n",
        "  <h2>Data Loading in D3.js</h2>\n",
        "  <svg width=\"400\" height=\"300\"></svg>\n",
        "\n",
        "  <script>\n",
        "    const data = [\n",
        "      { id: 1, value: 10 },\n",
        "      { id: 2, value: 20 },\n",
        "      { id: 3, value: 30 },\n",
        "      { id: 4, value: 40 },\n",
        "\n",
        "    ];\n",
        "\n",
        "    const svg = d3.select(\"svg\");\n",
        "    svg.selectAll(\"circle\")\n",
        "      .data(data)\n",
        "      .enter()\n",
        "      .append(\"circle\")\n",
        "      .attr(\"cx\", d => d.id * 80)\n",
        "      .attr(\"cy\", 150)\n",
        "      .attr(\"r\", d => d.value)\n",
        "      .attr(\"class\", \"circle\");\n",
        "  </script>\n",
        "</body>\n",
        "</html>\n"
      ],
      "metadata": {
        "colab": {
          "base_uri": "https://localhost:8080/",
          "height": 368
        },
        "id": "0dZ71j5KCjPg",
        "outputId": "f5863157-e875-4a0d-c02e-cd3f9194af7d"
      },
      "execution_count": 37,
      "outputs": [
        {
          "output_type": "display_data",
          "data": {
            "text/plain": [
              "<IPython.core.display.HTML object>"
            ],
            "text/html": [
              "<!DOCTYPE html>\n",
              "<html>\n",
              "<head>\n",
              "  <meta charset=\"utf-8\">\n",
              "  <title>Data Loading in D3.js</title>\n",
              "  <style>\n",
              "    .circle {\n",
              "      fill: steelblue;\n",
              "    }\n",
              "  </style>\n",
              "  <script src=\"https://d3js.org/d3.v7.min.js\"></script>\n",
              "</head>\n",
              "<body>\n",
              "  <h2>Data Loading in D3.js</h2>\n",
              "  <svg width=\"400\" height=\"300\"></svg>\n",
              "\n",
              "  <script>\n",
              "    const data = [\n",
              "      { id: 1, value: 10 },\n",
              "      { id: 2, value: 20 },\n",
              "      { id: 3, value: 30 },\n",
              "      { id: 4, value: 40 },\n",
              "\n",
              "    ];\n",
              "\n",
              "    const svg = d3.select(\"svg\");\n",
              "    svg.selectAll(\"circle\")\n",
              "      .data(data)\n",
              "      .enter()\n",
              "      .append(\"circle\")\n",
              "      .attr(\"cx\", d => d.id * 80) \n",
              "      .attr(\"cy\", 150)\n",
              "      .attr(\"r\", d => d.value)\n",
              "      .attr(\"class\", \"circle\");\n",
              "  </script>\n",
              "</body>\n",
              "</html>\n"
            ]
          },
          "metadata": {}
        }
      ]
    },
    {
      "cell_type": "markdown",
      "source": [
        "## **Conclusion:**\n",
        "There we have successfully achieved the following:\n",
        "\n",
        "1. **Setting Up a D3.js Environment:**\n",
        "   We successfully set up a D3.js environment by including the D3.js library in our HTML document using a script tag.\n",
        "\n",
        "2. **Selecting Elements in D3:**\n",
        "   Using D3.js, we demonstrated the ability to select HTML elements such as `<h2>`, `<p>`, `<div>`, and `<svg>` using various selection methods like `d3.select()` and `d3.selectAll()`. This selection capability is fundamental for interacting with elements in the DOM.\n",
        "\n",
        "3. **Modifying Elements in D3:**\n",
        "   After selecting elements, we showcased how to modify their properties such as text content, styles (like color and font size), and attributes (like class and title). These modifications were made dynamically based on our data or predefined conditions.\n",
        "\n",
        "4. **Data Loading in D3:**\n",
        "   We explored data loading in D3.js, both with internal data defined directly in the JavaScript code. This functionality allows us to visualize and manipulate data dynamically within our web applications.\n",
        "\n",
        "In conclusion, by understanding and applying these fundamental concepts in D3.js, we gain powerful tools for creating interactive and visually engaging data-driven web experiences."
      ],
      "metadata": {
        "id": "9TYfg9oJER6b"
      }
    }
  ]
}