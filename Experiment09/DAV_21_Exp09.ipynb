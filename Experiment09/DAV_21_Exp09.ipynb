{
  "nbformat": 4,
  "nbformat_minor": 0,
  "metadata": {
    "colab": {
      "provenance": [],
      "authorship_tag": "ABX9TyPwxkGKS1PijSN/THaxGLX8",
      "include_colab_link": true
    },
    "kernelspec": {
      "name": "python3",
      "display_name": "Python 3"
    },
    "language_info": {
      "name": "python"
    }
  },
  "cells": [
    {
      "cell_type": "markdown",
      "metadata": {
        "id": "view-in-github",
        "colab_type": "text"
      },
      "source": [
        "<a href=\"https://colab.research.google.com/github/ShivamGupta82/DAV_Lab/blob/master/Experiment09/DAV_21_Exp09.ipynb\" target=\"_parent\"><img src=\"https://colab.research.google.com/assets/colab-badge.svg\" alt=\"Open In Colab\"/></a>"
      ]
    },
    {
      "cell_type": "markdown",
      "source": [
        "## **AIM: Create a World Map with d3.js**"
      ],
      "metadata": {
        "id": "SViZO5Oy7Cl4"
      }
    },
    {
      "cell_type": "code",
      "source": [
        "%%html\n",
        "<!DOCTYPE html>\n",
        "<html>\n",
        "<head>\n",
        "  <meta charset=\"utf-8\">\n",
        "  <title>D3 World Map</title>\n",
        "  <style>\n",
        "    path {\n",
        "      stroke: white;\n",
        "      stroke-width: 0.5px;\n",
        "      fill: #34A56F;\n",
        "      transition: fill 0.2s;\n",
        "    }\n",
        "    path:hover {\n",
        "      fill: lightcoral;\n",
        "    }\n",
        "    .tooltip {\n",
        "      position: absolute;\n",
        "      text-align: center;\n",
        "      padding: 6px;\n",
        "      font: 12px sans-serif;\n",
        "      background: #333;\n",
        "      color: white;\n",
        "      border-radius: 3px;\n",
        "      pointer-events: none;\n",
        "    }\n",
        "  </style>\n",
        "  <script src=\"https://d3js.org/d3.v3.min.js\"></script>\n",
        "  <script src=\"https://cdn.tailwindcss.com\"></script>\n",
        "  <script src=\"https://d3js.org/topojson.v0.min.js\"></script>\n",
        "</head>\n",
        "<body>\n",
        "  <div class =\"flex flex-col justify-center items-center gap-4 m-4 p-4\">\n",
        "    <h2 class = \"text-center text-3xl font-semibold\">WORLD MAP</h2>\n",
        "    <div>\n",
        "      <svg class=\"rounded-full bg-blue-200\">\n",
        "\n",
        "      </svg>\n",
        "      <div class=\"tooltip\" style=\"display: none;\"></div>\n",
        "    </div>\n",
        "  </div>\n",
        "  <script type=\"text/javascript\">\n",
        "    var width = 960;\n",
        "    var height = 600;\n",
        "\n",
        "    var projection = d3.geo.mercator();\n",
        "\n",
        "    var svg = d3.select(\"svg\")\n",
        "        .attr(\"width\", width)\n",
        "        .attr(\"height\", height);\n",
        "    var path = d3.geo.path()\n",
        "        .projection(projection);\n",
        "    var g = svg.append(\"g\");\n",
        "\n",
        "    var tooltip = d3.select(\".tooltip\");\n",
        "\n",
        "    d3.json(\"https://cdn.jsdelivr.net/npm/world-atlas@2.0.2/countries-110m.json\", function(error, topology) {\n",
        "      g.selectAll(\"path\")\n",
        "        .data(topojson.object(topology, topology.objects.countries)\n",
        "        .geometries)\n",
        "        .enter()\n",
        "        .append(\"path\")\n",
        "        .attr(\"d\", path)\n",
        "        .on(\"mouseover\", function(d) {\n",
        "          tooltip.style(\"display\", \"block\").html(d.properties.name);\n",
        "        })\n",
        "        .on(\"mousemove\", function() {\n",
        "          tooltip.style(\"left\", (d3.event.pageX + 10) + \"px\")\n",
        "                 .style(\"top\", (d3.event.pageY - 20) + \"px\");\n",
        "        })\n",
        "        .on(\"mouseout\", function() {\n",
        "          tooltip.style(\"display\", \"none\");\n",
        "        });\n",
        "    });\n",
        "  </script>\n",
        "</body>\n",
        "</html>\n"
      ],
      "metadata": {
        "colab": {
          "base_uri": "https://localhost:8080/",
          "height": 733
        },
        "id": "3yt5yUd3uB8B",
        "outputId": "17e26f37-7ee0-450e-d789-785bf513c76b"
      },
      "execution_count": 17,
      "outputs": [
        {
          "output_type": "display_data",
          "data": {
            "text/plain": [
              "<IPython.core.display.HTML object>"
            ],
            "text/html": [
              "<!DOCTYPE html>\n",
              "<html>\n",
              "<head>\n",
              "  <meta charset=\"utf-8\">\n",
              "  <title>D3 World Map</title>\n",
              "  <style>\n",
              "    path {\n",
              "      stroke: white;\n",
              "      stroke-width: 0.5px;\n",
              "      fill: #34A56F;\n",
              "      transition: fill 0.2s; \n",
              "    }\n",
              "    path:hover {\n",
              "      fill: lightcoral;\n",
              "    }\n",
              "    .tooltip {\n",
              "      position: absolute;\n",
              "      text-align: center;\n",
              "      padding: 6px;\n",
              "      font: 12px sans-serif;\n",
              "      background: #333;\n",
              "      color: white;\n",
              "      border-radius: 3px;\n",
              "      pointer-events: none;\n",
              "    }\n",
              "  </style>\n",
              "  <script src=\"https://d3js.org/d3.v3.min.js\"></script>\n",
              "  <script src=\"https://cdn.tailwindcss.com\"></script>\n",
              "  <script src=\"https://d3js.org/topojson.v0.min.js\"></script>\n",
              "</head>\n",
              "<body>\n",
              "  <div class =\"flex flex-col justify-center items-center gap-4 m-4 p-4\">\n",
              "    <h2 class = \"text-center text-3xl font-semibold\">WORLD MAP</h2>\n",
              "    <div>\n",
              "      <svg class=\"rounded-full bg-blue-200\">\n",
              "\n",
              "      </svg>\n",
              "      <div class=\"tooltip\" style=\"display: none;\"></div>\n",
              "    </div>\n",
              "  </div>\n",
              "  <script type=\"text/javascript\">\n",
              "    var width = 960;\n",
              "    var height = 600;\n",
              "\n",
              "    var projection = d3.geo.mercator();\n",
              "\n",
              "    var svg = d3.select(\"svg\")\n",
              "        .attr(\"width\", width)\n",
              "        .attr(\"height\", height);\n",
              "    var path = d3.geo.path()\n",
              "        .projection(projection);\n",
              "    var g = svg.append(\"g\");\n",
              "\n",
              "    var tooltip = d3.select(\".tooltip\");\n",
              "\n",
              "    d3.json(\"https://cdn.jsdelivr.net/npm/world-atlas@2.0.2/countries-110m.json\", function(error, topology) {\n",
              "      g.selectAll(\"path\")\n",
              "        .data(topojson.object(topology, topology.objects.countries)\n",
              "        .geometries)\n",
              "        .enter()\n",
              "        .append(\"path\")\n",
              "        .attr(\"d\", path)\n",
              "        .on(\"mouseover\", function(d) {\n",
              "          tooltip.style(\"display\", \"block\").html(d.properties.name); \n",
              "        })\n",
              "        .on(\"mousemove\", function() {\n",
              "          tooltip.style(\"left\", (d3.event.pageX + 10) + \"px\")\n",
              "                 .style(\"top\", (d3.event.pageY - 20) + \"px\");\n",
              "        })\n",
              "        .on(\"mouseout\", function() {\n",
              "          tooltip.style(\"display\", \"none\");\n",
              "        });\n",
              "    });\n",
              "  </script>\n",
              "</body>\n",
              "</html>\n"
            ]
          },
          "metadata": {}
        }
      ]
    },
    {
      "cell_type": "markdown",
      "source": [
        "## Conclusion:\n",
        "The experiment have following key aspects:\n",
        "\n",
        "1. **Data Binding**: D3.js is used to bind world map data from a JSON file to SVG elements (`<path>`). This data binding allows for dynamic rendering of the map based on the provided geographic data.\n",
        "\n",
        "2. **SVG Rendering**: D3.js is employed to create and manipulate SVG elements such as paths (`<path>`) to represent the countries on the map. SVG provides scalability and flexibility for creating interactive visualizations.\n",
        "\n",
        "3. **Projection**: D3.js facilitates map projections, such as the Mercator projection used in this experiment (`d3.geo.mercator()`). Projections transform geographic coordinates into Cartesian coordinates suitable for displaying on a 2D plane.\n",
        "\n",
        "4. **Event Handling**: D3.js is utilized to add event listeners (`mouseover`, `mousemove`, `mouseout`) to map elements. These event handlers enable interactive features like displaying tooltips with country names on hover and improving user experience.\n",
        "\n",
        "5. **Dynamic Styling**: D3.js enables dynamic styling of map elements based on user interactions. In this experiment, transitions and color changes (`fill`) are applied to paths to create visual feedback when users interact with the map.\n",
        "\n",
        "Overall, the experiment showcases the power and versatility of D3.js for creating interactive and data-driven visualizations, particularly in the context of geographic data and map rendering."
      ],
      "metadata": {
        "id": "IDzfvwyD7Jhn"
      }
    }
  ]
}